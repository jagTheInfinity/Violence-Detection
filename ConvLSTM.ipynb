{
 "cells": [
  {
   "cell_type": "code",
   "execution_count": 1,
   "metadata": {
    "id": "HmqXtMnk-aC6"
   },
   "outputs": [],
   "source": [
    "# Importing Required Libaries."
   ]
  },
  {
   "cell_type": "code",
   "execution_count": 2,
   "metadata": {},
   "outputs": [
    {
     "name": "stdout",
     "output_type": "stream",
     "text": [
      "Connecting to wss://anvil.works/uplink\n",
      "Anvil websocket open\n",
      "Connected to \"Default Environment\" as SERVER\n"
     ]
    }
   ],
   "source": [
    "import anvil.server\n",
    "\n",
    "anvil.server.connect('server_B4ZRH2C5D6V7DEZRDD3ETIKZ-B32KU57W5XFT6XM4')"
   ]
  },
  {
   "cell_type": "code",
   "execution_count": 3,
   "metadata": {
    "id": "GoXFUN-QaxPM"
   },
   "outputs": [],
   "source": [
    "from __future__ import absolute_import\n",
    "from __future__  import division\n",
    "from __future__ import print_function"
   ]
  },
  {
   "cell_type": "code",
   "execution_count": 4,
   "metadata": {
    "id": "NKtK_bNKbfnX"
   },
   "outputs": [],
   "source": [
    "import numpy as np\n",
    "import os\n",
    "import cv2\n",
    "import tensorflow as tf\n",
    "from PIL import Image\n",
    "from io import BytesIO\n",
    "import time\n",
    "from skimage.io import imread\n",
    "from skimage.transform import resize\n",
    "from IPython.display import Video, display\n",
    "import matplotlib.pyplot as plt"
   ]
  },
  {
   "cell_type": "code",
   "execution_count": 5,
   "metadata": {
    "colab": {
     "base_uri": "https://localhost:8080/"
    },
    "id": "U1E4lAOMbtdw",
    "outputId": "a63c2f1f-1808-45a6-dc46-ea89872fd5b6",
    "scrolled": true
   },
   "outputs": [
    {
     "name": "stdout",
     "output_type": "stream",
     "text": [
      "[name: \"/device:CPU:0\"\n",
      "device_type: \"CPU\"\n",
      "memory_limit: 268435456\n",
      "locality {\n",
      "}\n",
      "incarnation: 16878240904210961131\n",
      "xla_global_id: -1\n",
      "]\n"
     ]
    }
   ],
   "source": [
    "from tensorflow.python.client import device_lib\n",
    "print(device_lib.list_local_devices())"
   ]
  },
  {
   "cell_type": "code",
   "execution_count": 6,
   "metadata": {
    "colab": {
     "base_uri": "https://localhost:8080/"
    },
    "id": "xBbMZIU7bx0V",
    "outputId": "f6d4d827-36e7-4864-b036-c2bcd894a40c"
   },
   "outputs": [
    {
     "name": "stdout",
     "output_type": "stream",
     "text": [
      "2.7.0\n"
     ]
    }
   ],
   "source": [
    "print(tf. __version__)"
   ]
  },
  {
   "cell_type": "markdown",
   "metadata": {
    "id": "M70XYvj8ASE8"
   },
   "source": [
    "# Model Architecture."
   ]
  },
  {
   "cell_type": "code",
   "execution_count": 7,
   "metadata": {
    "id": "PsyWfzoub0ln"
   },
   "outputs": [],
   "source": [
    "def mamon_videoFightModel2(tf,wight=r'./mamonbest947oscombo-drive.hdfs'):\n",
    "    layers = tf.keras.layers\n",
    "    models = tf.keras.models\n",
    "    losses = tf.keras.losses\n",
    "    optimizers = tf.keras.optimizers\n",
    "    metrics = tf.keras.metrics\n",
    "    num_classes = 2\n",
    "    cnn = models.Sequential()\n",
    "    #cnn.add(base_model)\n",
    "\n",
    "    input_shapes=(160,160,3)\n",
    "    np.random.seed(1234)\n",
    "    vg19 = tf.keras.applications.vgg19.VGG19\n",
    "    base_model = vg19(include_top=False,weights='imagenet',input_shape=(160, 160,3))\n",
    "    # Freeze the layers except the last 4 layers\n",
    "    #for layer in base_model.layers:\n",
    "    #    layer.trainable = False\n",
    "\n",
    "    cnn = models.Sequential()\n",
    "    cnn.add(base_model)\n",
    "    cnn.add(layers.Flatten())\n",
    "    model = models.Sequential()\n",
    "\n",
    "    model.add(layers.TimeDistributed(cnn,  input_shape=(30, 160, 160, 3)))\n",
    "    model.add(layers.LSTM(30 , return_sequences= True))\n",
    "\n",
    "    model.add(layers.TimeDistributed(layers.Dense(90)))\n",
    "    model.add(layers.Dropout(0.1))\n",
    "\n",
    "    model.add(layers.GlobalAveragePooling1D())\n",
    "\n",
    "    model.add(layers.Dense(512, activation='relu'))\n",
    "    model.add(layers.Dropout(0.3))\n",
    "\n",
    "    model.add(layers.Dense(num_classes, activation=\"sigmoid\"))\n",
    "\n",
    "    adam = optimizers.Adam(lr=0.0005, beta_1=0.9, beta_2=0.999, epsilon=1e-08)\n",
    "    model.load_weights(wight)\n",
    "    rms = optimizers.RMSprop()\n",
    "\n",
    "    model.compile(loss='binary_crossentropy', optimizer=adam, metrics=[\"accuracy\"])\n",
    "\n",
    "    return model"
   ]
  },
  {
   "cell_type": "code",
   "execution_count": 8,
   "metadata": {
    "colab": {
     "base_uri": "https://localhost:8080/"
    },
    "id": "q4gwr8nvcQeg",
    "outputId": "4ca9c1d8-86c5-4211-dc3a-e0e95273022e"
   },
   "outputs": [
    {
     "name": "stdout",
     "output_type": "stream",
     "text": [
      "Model: \"sequential_2\"\n",
      "_________________________________________________________________\n",
      " Layer (type)                Output Shape              Param #   \n",
      "=================================================================\n",
      " time_distributed (TimeDistr  (None, 30, 12800)        20024384  \n",
      " ibuted)                                                         \n",
      "                                                                 \n",
      " lstm (LSTM)                 (None, 30, 30)            1539720   \n",
      "                                                                 \n",
      " time_distributed_1 (TimeDis  (None, 30, 90)           2790      \n",
      " tributed)                                                       \n",
      "                                                                 \n",
      " dropout (Dropout)           (None, 30, 90)            0         \n",
      "                                                                 \n",
      " global_average_pooling1d (G  (None, 90)               0         \n",
      " lobalAveragePooling1D)                                          \n",
      "                                                                 \n",
      " dense_1 (Dense)             (None, 512)               46592     \n",
      "                                                                 \n",
      " dropout_1 (Dropout)         (None, 512)               0         \n",
      "                                                                 \n",
      " dense_2 (Dense)             (None, 2)                 1026      \n",
      "                                                                 \n",
      "=================================================================\n",
      "Total params: 21,614,512\n",
      "Trainable params: 21,614,512\n",
      "Non-trainable params: 0\n",
      "_________________________________________________________________\n",
      "<keras.engine.sequential.Sequential object at 0x0000022DCE4AA6D0>\n"
     ]
    },
    {
     "name": "stderr",
     "output_type": "stream",
     "text": [
      "C:\\Users\\73056\\anaconda3\\lib\\site-packages\\keras\\optimizer_v2\\adam.py:105: UserWarning: The `lr` argument is deprecated, use `learning_rate` instead.\n",
      "  super(Adam, self).__init__(name, **kwargs)\n"
     ]
    }
   ],
   "source": [
    "np.random.seed(1234)\n",
    "model22 = mamon_videoFightModel2(tf)\n",
    "model22.summary()\n",
    "print(model22)"
   ]
  },
  {
   "cell_type": "markdown",
   "metadata": {
    "id": "EdlSvrMXAaur"
   },
   "source": [
    "# Model Training."
   ]
  },
  {
   "cell_type": "code",
   "execution_count": 9,
   "metadata": {
    "id": "TprC2Zf3cWEz"
   },
   "outputs": [],
   "source": [
    "def video_mamonreader(cv2,filename):\n",
    "    frames = np.zeros((30, 160, 160, 3), dtype=np.float)\n",
    "    i=0\n",
    "    print(frames.shape)\n",
    "    vc = cv2.VideoCapture(filename)\n",
    "    if vc.isOpened():\n",
    "        rval , frame = vc.read()\n",
    "    else:\n",
    "        rval = False\n",
    "        frame = None\n",
    "    if frame is not None:\n",
    "        frm = resize(frame,(160,160,3))\n",
    "        frm = np.expand_dims(frm,axis=0)\n",
    "        if(np.max(frm)>1):\n",
    "            frm = frm/255.0\n",
    "        frames[i][:] = frm\n",
    "        i +=1\n",
    "        print(\"reading video\")\n",
    "        while i < 30:\n",
    "            rval, frame = vc.read()\n",
    "            frm = resize(frame,(160,160,3))\n",
    "            frm = np.expand_dims(frm,axis=0)\n",
    "            if(np.max(frm)>1):\n",
    "                frm = frm/255.0\n",
    "            frames[i][:] = frm\n",
    "            i +=1\n",
    "    return frames"
   ]
  },
  {
   "cell_type": "markdown",
   "metadata": {
    "id": "HO880HPtAgrR"
   },
   "source": [
    "# Model Testing."
   ]
  },
  {
   "cell_type": "code",
   "execution_count": 10,
   "metadata": {
    "id": "qE6X79krcaIQ"
   },
   "outputs": [],
   "source": [
    "def pred_fight(model,video,acuracy=0.8):\n",
    "    pred_test = model.predict(video)\n",
    "    if pred_test[0][1] >=acuracy:\n",
    "        return True , pred_test[0][1]\n",
    "    else:\n",
    "        return False , pred_test[0][1]"
   ]
  },
  {
   "cell_type": "code",
   "execution_count": 11,
   "metadata": {
    "id": "8Z_SKN9-ccy2"
   },
   "outputs": [],
   "source": [
    "def main_fight(vidoss):\n",
    "    vid = video_mamonreader(cv2,vidoss)\n",
    "    datav = np.zeros((1, 30, 160, 160, 3), dtype=np.float)\n",
    "    datav[0][:][:] = vid\n",
    "    millis = int(round(time.time() * 1000))\n",
    "    print(millis)\n",
    "    f , precent = pred_fight(model22,datav,acuracy=0.65)\n",
    "    millis2 = int(round(time.time() * 1000))\n",
    "    print(millis2)\n",
    "    res_mamon = {'fight':f , 'precentegeoffight':str(precent)}\n",
    "    res_mamon['processing_time'] =  str(millis2-millis)\n",
    "    return res_mamon"
   ]
  },
  {
   "cell_type": "markdown",
   "metadata": {
    "id": "bUPMzZZfA4OR"
   },
   "source": [
    "# Prediction."
   ]
  },
  {
   "cell_type": "code",
   "execution_count": 12,
   "metadata": {
    "colab": {
     "base_uri": "https://localhost:8080/"
    },
    "id": "bK9SsL2Achm_",
    "outputId": "fcbdc1db-8ac4-4947-9f33-b68b99c3fb6c",
    "scrolled": false
   },
   "outputs": [
    {
     "name": "stderr",
     "output_type": "stream",
     "text": [
      "C:\\Users\\73056\\AppData\\Local\\Temp/ipykernel_8612/2375835155.py:2: DeprecationWarning: `np.float` is a deprecated alias for the builtin `float`. To silence this warning, use `float` by itself. Doing this will not modify any behavior and is safe. If you specifically wanted the numpy scalar type, use `np.float64` here.\n",
      "Deprecated in NumPy 1.20; for more details and guidance: https://numpy.org/devdocs/release/1.20.0-notes.html#deprecations\n",
      "  frames = np.zeros((30, 160, 160, 3), dtype=np.float)\n"
     ]
    },
    {
     "name": "stdout",
     "output_type": "stream",
     "text": [
      "(30, 160, 160, 3)\n",
      "reading video\n"
     ]
    },
    {
     "name": "stderr",
     "output_type": "stream",
     "text": [
      "C:\\Users\\73056\\AppData\\Local\\Temp/ipykernel_8612/3585827140.py:3: DeprecationWarning: `np.float` is a deprecated alias for the builtin `float`. To silence this warning, use `float` by itself. Doing this will not modify any behavior and is safe. If you specifically wanted the numpy scalar type, use `np.float64` here.\n",
      "Deprecated in NumPy 1.20; for more details and guidance: https://numpy.org/devdocs/release/1.20.0-notes.html#deprecations\n",
      "  datav = np.zeros((1, 30, 160, 160, 3), dtype=np.float)\n"
     ]
    },
    {
     "name": "stdout",
     "output_type": "stream",
     "text": [
      "1711172588194\n",
      "1711172592238\n"
     ]
    }
   ],
   "source": [
    "video_path=r'./videossss.mp4'\n",
    "res = main_fight(video_path)"
   ]
  },
  {
   "cell_type": "code",
   "execution_count": 13,
   "metadata": {
    "scrolled": false
   },
   "outputs": [
    {
     "data": {
      "text/html": [
       "<video src=\"./videossss.mp4\" controls  >\n",
       "      Your browser does not support the <code>video</code> element.\n",
       "    </video>"
      ],
      "text/plain": [
       "<IPython.core.display.Video object>"
      ]
     },
     "metadata": {},
     "output_type": "display_data"
    },
    {
     "name": "stdout",
     "output_type": "stream",
     "text": [
      "{'fight': True, 'precentegeoffight': '0.6501253', 'processing_time': '4044'}\n"
     ]
    },
    {
     "data": {
      "image/png": "[encoded data removed]",
      "text/plain": [
       "<Figure size 576x432 with 1 Axes>"
      ]
     },
     "metadata": {
      "needs_background": "light"
     },
     "output_type": "display_data"
    }
   ],
   "source": [
    "display(Video(video_path))\n",
    "\n",
    "categories = ['Precentage of Fight']\n",
    "print(res)\n",
    "percentages = [float(res[\"precentegeoffight\"])]  # Percentages for each category\n",
    "\n",
    "# Plot\n",
    "plt.figure(figsize=(8, 6))\n",
    "plt.bar(categories, percentages, color='skyblue')\n",
    "plt.ylabel('Percentage (%)')\n",
    "plt.title('Violence Detection')\n",
    "plt.ylim(0, 1.0)  # Set the limit for y-axis from 0 to 100\n",
    "plt.grid(axis='y', linestyle='--', alpha=0.7)  # Add grid lines\n",
    "plt.xticks(rotation=45)  # Rotate x-axis labels for better visibility\n",
    "plt.show()"
   ]
  },
  {
   "cell_type": "code",
   "execution_count": 14,
   "metadata": {
    "scrolled": true
   },
   "outputs": [],
   "source": [
    "\n",
    "    \n",
    "   "
   ]
  },
  {
   "cell_type": "code",
   "execution_count": null,
   "metadata": {},
   "outputs": [],
   "source": []
  }
 ],
 "metadata": {
  "accelerator": "GPU",
  "colab": {
   "gpuType": "T4",
   "provenance": []
  },
  "kernelspec": {
   "display_name": "Python 3 (ipykernel)",
   "language": "python",
   "name": "python3"
  },
  "language_info": {
   "codemirror_mode": {
    "name": "ipython",
    "version": 3
   },
   "file_extension": ".py",
   "mimetype": "text/x-python",
   "name": "python",
   "nbconvert_exporter": "python",
   "pygments_lexer": "ipython3",
   "version": "3.9.7"
  }
 },
 "nbformat": 4,
 "nbformat_minor": 1
}
